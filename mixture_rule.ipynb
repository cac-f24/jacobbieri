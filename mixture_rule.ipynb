{
 "cells": [
  {
   "cell_type": "code",
   "execution_count": 23,
   "id": "4c786f9e-8b93-4cc3-8ac8-d68289dc830c",
   "metadata": {},
   "outputs": [],
   "source": [
    "rho_ag = (16.9 * (10**-9)) # Literature value of nickel conductivity\n",
    "rho_ni = (71 * (10**-9)) # Literature value of silver conductivity\n",
    "weight_frac_ni = [0.0,0.1,0.15,0.2,0.3,0.4,1.0] # Given values\n",
    "weight_frac_ag = [1.0,0.90,0.85,0.8,0.7,0.6,0]\n",
    "densities = [10.49,10.25,10.15,10.05,9.8,9.7,8.91] # Given values"
   ]
  },
  {
   "cell_type": "code",
   "execution_count": 24,
   "id": "f64f0dac-099d-4b6e-bd95-a3506f3430a4",
   "metadata": {},
   "outputs": [],
   "source": [
    "def calc_vol_frac():\n",
    "    vol_frac_ag = []\n",
    "    vol_frac_ni = []\n",
    "    for i in range(len(densities)):\n",
    "        vol_frac_ni.append(weight_frac_ni[i]* (densities[i]/densities[6]))\n",
    "        vol_frac_ag.append(1 - vol_frac_ni[i])\n",
    "    return vol_frac_ag, vol_frac_ni"
   ]
  },
  {
   "cell_type": "code",
   "execution_count": 27,
   "id": "c919fde1-b082-4a97-8cc7-c5216df02844",
   "metadata": {},
   "outputs": [
    {
     "name": "stdout",
     "output_type": "stream",
     "text": [
      "At weight percentage Ni:0.0 , 16.9 nanoOhm*meters\n",
      "At weight percentage Ni:0.1 , 18.523728791534374 nanoOhm*meters\n",
      "At weight percentage Ni:0.15 , 19.429804390880204 nanoOhm*meters\n",
      "At weight percentage Ni:0.2 , 20.40798176643397 nanoOhm*meters\n",
      "At weight percentage Ni:0.3 , 22.57622963282062 nanoOhm*meters\n",
      "At weight percentage Ni:0.4 , 25.29230758312002 nanoOhm*meters\n",
      "At weight percentage Ni:1.0 , 71.0 nanoOhm*meters\n"
     ]
    }
   ],
   "source": [
    "def calc():\n",
    "    vol_frac_ag, vol_frac_ni = calc_vol_frac()\n",
    "    for i,j in zip(range(len(densities)), weight_frac_ni):\n",
    "        sigma_eff = (vol_frac_ag[i] / rho_ag) + (vol_frac_ni[i] / rho_ni)\n",
    "        rho_eff = 1/sigma_eff\n",
    "        print(f\"At weight percentage Ni:{j} , {rho_eff*(10**9)} nanoOhm*meters\")\n",
    "calc()"
   ]
  }
 ],
 "metadata": {
  "kernelspec": {
   "display_name": "Python 3 (ipykernel)",
   "language": "python",
   "name": "python3"
  },
  "language_info": {
   "codemirror_mode": {
    "name": "ipython",
    "version": 3
   },
   "file_extension": ".py",
   "mimetype": "text/x-python",
   "name": "python",
   "nbconvert_exporter": "python",
   "pygments_lexer": "ipython3",
   "version": "3.12.2"
  }
 },
 "nbformat": 4,
 "nbformat_minor": 5
}
