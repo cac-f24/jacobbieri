{
 "cells": [
  {
   "cell_type": "code",
   "execution_count": 7,
   "id": "269be50d-6574-4fd7-a5cc-e5f1d8bee138",
   "metadata": {},
   "outputs": [
    {
     "name": "stdin",
     "output_type": "stream",
     "text": [
      "Are you solving for p, v, n, or t? v\n",
      "Are the units of pressure in 'atm' or 'pa'? pa\n",
      "What is the value for pressure in pa?  101000\n",
      "What is the number of mols?  3\n",
      "What is the temperature in Kelvin?  214\n"
     ]
    },
    {
     "name": "stdout",
     "output_type": "stream",
     "text": [
      "Volume in liters is: 0.052847\n"
     ]
    }
   ],
   "source": [
    "def calculation(question, calc):\n",
    "    # Determining which value of R to use based on units of pressure\n",
    "    if question.lower() == \"atm\":\n",
    "        r = 0.08205\n",
    "    elif question.lower() == \"pa\":\n",
    "        r = 8.314\n",
    "    else:\n",
    "        raise ValueError(\"Unsupported unit for pressure. Use 'atm' or 'pa'.\")\n",
    "\n",
    "    if calc.lower() == \"p\":\n",
    "        v = float(input(\"What is the value for volume in liters? \"))\n",
    "        n = float(input(\"What is the number of mols? \"))\n",
    "        t = float(input(\"What is the temperature in Kelvin? \"))\n",
    "        p = (n * r * t) / v\n",
    "        # Formatting the answer to 5 significant figures\n",
    "        p = f\"{p:.5}\"\n",
    "        return f\"Pressure in {question} is: {p}\"\n",
    "    elif calc.lower() == \"v\":\n",
    "        p = float(input(f\"What is the value for pressure in {question}? \"))\n",
    "        n = float(input(\"What is the number of mols? \"))\n",
    "        t = float(input(\"What is the temperature in Kelvin? \"))\n",
    "        v = (n * r * t) / p\n",
    "        v = f\"{v:.5}\"\n",
    "        return f\"Volume in liters is: {v}\"\n",
    "    elif calc.lower() == \"n\":\n",
    "        p = float(input(f\"What is the value for pressure in {question}? \"))\n",
    "        v = float(input(\"What is the value for volume in liters? \"))\n",
    "        t = float(input(\"What is the temperature in Kelvin? \"))\n",
    "        n = (p * v) / (r * t)\n",
    "        n = f\"{n:.5}\"\n",
    "        return f\"Number of mols is: {n}\"\n",
    "    elif calc.lower() == \"t\":\n",
    "        p = float(input(f\"What is the value for pressure in {question}? \"))\n",
    "        v = float(input(\"What is the value for volume in liters? \"))\n",
    "        n = float(input(\"What is the number of mols? \"))\n",
    "        t = (p * v) / (n * r)\n",
    "        t = f\"{t:.5}\"\n",
    "        return f\"Temperature in Kelvin is: {t}\"\n",
    "    else:\n",
    "        raise ValueError(\"Unsupported calculation type. Use 'p', 'v', 'n', or 't'.\")"
   ]
  },
  {
   "cell_type": "code",
   "execution_count": null,
   "id": "e5122f08-feb4-4aeb-9962-5fe22ca85b74",
   "metadata": {},
   "outputs": [],
   "source": [
    "calc = input(\"Are you solving for p, v, n, or t?\")\n",
    "question = input(\"Are the units of pressure in 'atm' or 'pa'?\")\n",
    "print(calculation(question, calc))"
   ]
  }
 ],
 "metadata": {
  "kernelspec": {
   "display_name": "Python 3 (ipykernel)",
   "language": "python",
   "name": "python3"
  },
  "language_info": {
   "codemirror_mode": {
    "name": "ipython",
    "version": 3
   },
   "file_extension": ".py",
   "mimetype": "text/x-python",
   "name": "python",
   "nbconvert_exporter": "python",
   "pygments_lexer": "ipython3",
   "version": "3.12.7"
  }
 },
 "nbformat": 4,
 "nbformat_minor": 5
}
