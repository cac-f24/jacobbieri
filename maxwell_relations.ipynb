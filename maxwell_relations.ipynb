{
 "cells": [
  {
   "cell_type": "markdown",
   "id": "8512b9de-34c1-4243-8c16-4365dd1087aa",
   "metadata": {},
   "source": [
    "## Maxwell relations"
   ]
  },
  {
   "cell_type": "code",
   "execution_count": 53,
   "id": "7bf6804b-5cda-473c-a233-d59540ebe247",
   "metadata": {},
   "outputs": [],
   "source": [
    "def max_relations():\n",
    "    \n",
    "    solve_for = input(\"What are you solving for?\")\n",
    "    num_constants = int(input(\"How many components are being varied?\"))\n",
    "    components = []\n",
    "    coefficients = []\n",
    "    for i in range(num_constants):\n",
    "        components.append(input(\"What are those components in order?\"))\n",
    "        coefficients.append(input(\"What are the coefficients in order?\"))\n",
    "    \n",
    "    if num_constants == 2:\n",
    "        eq1 = \"(∂\" + solve_for[0] + \"/∂\" + components[0] + \")\" + components[1]\n",
    "        eq2 = \"(∂\" + solve_for[0] + \"/∂\" + components[1] + \")\" + components[0]\n",
    "        eq3 = \"(∂\" + coefficients[0] + \"/∂\" + components[1] + \")\" + components[0]\n",
    "        eq4 = \"(∂\" + coefficients[1] + \"/∂\" + components[0] + \")\" + components[1]\n",
    "        eq5 = coefficients[0] + \" = \" + eq1 + \" & \" + coefficients[1] + \" = \" + eq2 + \"\\n\"\n",
    "        eq5 += \"Maxwell relation: \\n\" + eq3 + \" = \" + eq4\n",
    "    elif num_constants == 3:\n",
    "        eq1 = \"(∂\" + coefficients[0] + \"/∂\" + components[1] + \")\" + components[2]\n",
    "        eq2 = \"(∂\" + coefficients[1] + \"/∂\" + components[2] + \")\" + components[0]\n",
    "        eq3 = \"(∂\" + coefficients[2] + \"/∂\" + components[0] + \")\" + components[1]\n",
    "\n",
    "        eq4 = \"Maxwell relations: \\n\"\n",
    "        eq4 += f\"Maxwell relation 1: {eq1} = {eq2} \\n\"\n",
    "        eq4 += f\"Maxwell relation 2: {eq3} = {eq4}\"\n",
    "        eq4 += f\"Coefficient values: \\n\"\n",
    "        eq4 += f\"{coefficients[0]} = (∂{solve_for}/∂{components[0]}){components[1]},{components[2]}\\n\"\n",
    "        eq4 += f\"{coefficients[1]} = (∂{solve_for}/∂{components[1]}){components[0]},{components[2]}\\n\"\n",
    "        eq4 += f\"{coefficients[2]} = (∂{solve_for}/∂{components[2]}){components[0]},{components[1]}\"\n",
    "    \n",
    "    if num_constants == 2:\n",
    "        print(eq5)\n",
    "    elif num_constants == 3:\n",
    "        print(eq4)"
   ]
  },
  {
   "cell_type": "code",
   "execution_count": 54,
   "id": "f31bf484-83a5-417f-9033-be39148bb915",
   "metadata": {},
   "outputs": [
    {
     "name": "stdin",
     "output_type": "stream",
     "text": [
      "What are you solving for? G\n",
      "How many components are being varied? 3\n",
      "What are those components in order? T\n",
      "What are the coefficients in order? -S\n",
      "What are those components in order? P\n",
      "What are the coefficients in order? V\n",
      "What are those components in order? V\n",
      "What are the coefficients in order? mu\n"
     ]
    },
    {
     "name": "stdout",
     "output_type": "stream",
     "text": [
      "Maxwell relations: \n",
      "Maxwell relation 1: (∂-S/∂P)V = (∂V/∂V)T \n",
      "Maxwell relation 2: (∂mu/∂T)P = Maxwell relations: \n",
      "Maxwell relation 1: (∂-S/∂P)V = (∂V/∂V)T \n",
      "Coefficient values: \n",
      "-S = (∂G/∂T)P,V\n",
      "V = (∂G/∂P)T,V\n",
      "mu = (∂G/∂V)T,P\n"
     ]
    }
   ],
   "source": [
    "max_relations()"
   ]
  },
  {
   "cell_type": "code",
   "execution_count": null,
   "id": "31c110c8-159f-4fe9-b614-038acd2c9a5e",
   "metadata": {},
   "outputs": [],
   "source": []
  }
 ],
 "metadata": {
  "kernelspec": {
   "display_name": "Python 3 (ipykernel)",
   "language": "python",
   "name": "python3"
  },
  "language_info": {
   "codemirror_mode": {
    "name": "ipython",
    "version": 3
   },
   "file_extension": ".py",
   "mimetype": "text/x-python",
   "name": "python",
   "nbconvert_exporter": "python",
   "pygments_lexer": "ipython3",
   "version": "3.12.7"
  }
 },
 "nbformat": 4,
 "nbformat_minor": 5
}
