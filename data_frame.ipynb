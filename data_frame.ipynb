{
 "cells": [
  {
   "cell_type": "code",
   "execution_count": 1,
   "id": "8f557880-ceec-411d-8810-dcd82aa93990",
   "metadata": {},
   "outputs": [],
   "source": [
    "import pandas as pd"
   ]
  },
  {
   "cell_type": "code",
   "execution_count": 2,
   "id": "17f327b4-5256-4126-8c84-191284e1c088",
   "metadata": {},
   "outputs": [],
   "source": [
    "def format_data(file_path, sheet_name):\n",
    "    df = pd.read_excel(file_path, sheet_name=sheet_name)\n",
    "    elements = {} # Creating dicionary so that it's easier to separate elements\n",
    "    current_element = None\n",
    "    \n",
    "    for index, row in df.iterrows():\n",
    "        if row.isnull().all():\n",
    "            continue\n",
    "        left_value = row[0]\n",
    "        right_value = row[1] if len(row) > 1 else None  # If the row is an element title, setting intensity to none\n",
    "        if isinstance(left_value, str):\n",
    "            if left_value == 'Full':\n",
    "                continue\n",
    "            else:\n",
    "                current_element = left_value\n",
    "                if current_element not in elements:\n",
    "                    elements[current_element] = []\n",
    "        elif pd.notna(left_value) and isinstance(left_value, (int, float)): # CHecking if the left column has a binding energy\n",
    "            if current_element and pd.notna(right_value):  # Ensure intensity is not empty\n",
    "                binding_energy = left_value\n",
    "                intensity = right_value\n",
    "                elements[current_element].append({'Binding Energy (eV)': binding_energy, 'Intensity': intensity})\n",
    "    \n",
    "    formatted_dfs = {element: pd.DataFrame(data) for element, data in elements.items()}\n",
    "    return formatted_dfs"
   ]
  },
  {
   "cell_type": "code",
   "execution_count": 3,
   "id": "ca175a32-e198-448f-b26f-0d8db932249d",
   "metadata": {},
   "outputs": [
    {
     "name": "stderr",
     "output_type": "stream",
     "text": [
      "/tmp/ipykernel_8582/445179638.py:9: FutureWarning: Series.__getitem__ treating keys as positions is deprecated. In a future version, integer keys will always be treated as labels (consistent with DataFrame behavior). To access a value by position, use `ser.iloc[pos]`\n",
      "  left_value = row[0]\n",
      "/tmp/ipykernel_8582/445179638.py:10: FutureWarning: Series.__getitem__ treating keys as positions is deprecated. In a future version, integer keys will always be treated as labels (consistent with DataFrame behavior). To access a value by position, use `ser.iloc[pos]`\n",
      "  right_value = row[1] if len(row) > 1 else None  # If the row is an element title, setting intensity to none\n"
     ]
    }
   ],
   "source": [
    "test = format_data('/mnt/d/Job/high resolution scan Mo, C, S, O.xlsx','high resolution scan Mo, C, S, ')"
   ]
  },
  {
   "cell_type": "code",
   "execution_count": 4,
   "id": "d1b90bac-809b-4f81-a778-4445db00e66c",
   "metadata": {},
   "outputs": [
    {
     "name": "stdout",
     "output_type": "stream",
     "text": [
      "{'C1s':      Binding Energy (eV)  Intensity\n",
      "0                300.000  2830.0000\n",
      "1                299.975  2746.6665\n",
      "2                299.950  2700.0000\n",
      "3                299.925  2693.3333\n",
      "4                299.900  2670.0000\n",
      "..                   ...        ...\n",
      "995              275.125  2713.3333\n",
      "996              275.100  2690.0000\n",
      "997              275.075  2700.0000\n",
      "998              275.050  2683.3333\n",
      "999              275.025  2810.0000\n",
      "\n",
      "[1000 rows x 2 columns], 'Mo3d':      Binding Energy (eV)  Intensity\n",
      "0                243.000  2113.3333\n",
      "1                242.975  2009.9999\n",
      "2                242.950  2110.0000\n",
      "3                242.925  2113.3333\n",
      "4                242.900  2133.3333\n",
      "..                   ...        ...\n",
      "795              223.125   939.9999\n",
      "796              223.100   813.3333\n",
      "797              223.075   916.6666\n",
      "798              223.050   949.9999\n",
      "799              223.025   803.3333\n",
      "\n",
      "[800 rows x 2 columns], 'S2p':      Binding Energy (eV)  Intensity\n",
      "0                178.000   690.0000\n",
      "1                177.975   633.3333\n",
      "2                177.950   779.9999\n",
      "3                177.925   756.6666\n",
      "4                177.900   620.0000\n",
      "..                   ...        ...\n",
      "795              158.125   446.6667\n",
      "796              158.100   396.6667\n",
      "797              158.075   386.6667\n",
      "798              158.050   433.3333\n",
      "799              158.025   350.0000\n",
      "\n",
      "[800 rows x 2 columns], 'O1s':      Binding Energy (eV)  Intensity\n",
      "0                545.000  1896.6666\n",
      "1                544.975  1916.6666\n",
      "2                544.950  2003.3333\n",
      "3                544.925  1973.3333\n",
      "4                544.900  1839.9999\n",
      "..                   ...        ...\n",
      "995              520.125  1959.9999\n",
      "996              520.100  1989.9999\n",
      "997              520.075  2013.3333\n",
      "998              520.050  1819.9999\n",
      "999              520.025  2060.0000\n",
      "\n",
      "[1000 rows x 2 columns]}\n"
     ]
    }
   ],
   "source": [
    "print(test)"
   ]
  },
  {
   "cell_type": "code",
   "execution_count": null,
   "id": "119c0085-4798-4171-9d7b-d94961470b46",
   "metadata": {},
   "outputs": [],
   "source": []
  }
 ],
 "metadata": {
  "kernelspec": {
   "display_name": "Python 3 (ipykernel)",
   "language": "python",
   "name": "python3"
  },
  "language_info": {
   "codemirror_mode": {
    "name": "ipython",
    "version": 3
   },
   "file_extension": ".py",
   "mimetype": "text/x-python",
   "name": "python",
   "nbconvert_exporter": "python",
   "pygments_lexer": "ipython3",
   "version": "3.12.7"
  }
 },
 "nbformat": 4,
 "nbformat_minor": 5
}
