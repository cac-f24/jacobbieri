{
 "cells": [
  {
   "cell_type": "code",
   "execution_count": 32,
   "id": "831a0fd4-973d-4d4c-b743-61010804bca4",
   "metadata": {},
   "outputs": [
    {
     "name": "stdout",
     "output_type": "stream",
     "text": [
      "[1.0, 0.8849607182940517, 0.8291245791245792, 0.7744107744107744, 0.67003367003367, 0.5645342312008979, 0.0] [0.0, 0.11503928170594839, 0.17087542087542087, 0.22558922558922562, 0.32996632996632996, 0.4354657687991021, 1.0]\n",
      "71.0\n",
      "79.55879255876127\n",
      "84.4485007555858\n",
      "89.81315982746767\n",
      "101.99448420499745\n",
      "117.7256577743748\n",
      "285.60999999999996\n"
     ]
    }
   ],
   "source": [
    "# MSE 311 HWK 2 Q2\n",
    "# Mixture rule for conductivity calculations\n",
    "\n",
    "sig_ni = (1/16.9)\n",
    "sig_ag = (1/71)\n",
    "weight_frac_ni = [0,0.1,0.15,0.2,0.3,0.4,1]\n",
    "weight_frac_ag = [1,0.90,0.85,0.8,0.7,0.6,0]\n",
    "densities = [10.49,10.25,10.15,10.05,9.8,9.7,8.91]\n",
    "vol_frac_ag = []\n",
    "vol_frac_ni = []\n",
    "\n",
    "\n",
    "# (.1*10.25/8.907)\n",
    "def calc_vol_frac():\n",
    "    for i in range(len(densities)):\n",
    "        vol_frac_ni.append((weight_frac_ni[i]*densities[i])/8.91)\n",
    "        vol_frac_ag.append(1 - vol_frac_ni[i])\n",
    "    print(vol_frac_ag,vol_frac_ni)\n",
    "\n",
    "calc_vol_frac()\n",
    "def calc():\n",
    "    for i in range(len(densities)):\n",
    "        # sig_eff = (vol_frac_ag[i]*sig_ag)+(vol_frac_ni[i]*sig_ni)/((vol_frac_ag[i]/sig_ag)+(vol_frac_ni[i]/sig_ni))\n",
    "        sig_eff = \n",
    "        rho_eff = 1 / sig_eff\n",
    "        print(rho_eff)\n",
    "\n",
    "calc()"
   ]
  }
 ],
 "metadata": {
  "kernelspec": {
   "display_name": "Python 3 (ipykernel)",
   "language": "python",
   "name": "python3"
  },
  "language_info": {
   "codemirror_mode": {
    "name": "ipython",
    "version": 3
   },
   "file_extension": ".py",
   "mimetype": "text/x-python",
   "name": "python",
   "nbconvert_exporter": "python",
   "pygments_lexer": "ipython3",
   "version": "3.11.0"
  }
 },
 "nbformat": 4,
 "nbformat_minor": 5
}
