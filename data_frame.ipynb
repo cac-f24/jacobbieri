{
 "cells": [
  {
   "cell_type": "code",
   "execution_count": 1,
   "id": "8f557880-ceec-411d-8810-dcd82aa93990",
   "metadata": {},
   "outputs": [],
   "source": [
    "import pandas as pd"
   ]
  },
  {
   "cell_type": "code",
   "execution_count": 2,
   "id": "17f327b4-5256-4126-8c84-191284e1c088",
   "metadata": {},
   "outputs": [],
   "source": [
    "def format_data(file_path, sheet_name):\n",
    "    df = pd.read_excel(file_path, sheet_name=sheet_name)\n",
    "    element = []\n",
    "    current_element = None\n",
    "    \n",
    "    for index, row in df.iterrows():\n",
    "        if row.isnull().all():\n",
    "            continue\n",
    "        left_value = row[0]\n",
    "        right_value = row[1] if len(row) > 1 else None  # If the row is an element title, setting intensity to none\n",
    "        if isinstance(left_value, str):\n",
    "            if left_value == 'Full':\n",
    "                continue\n",
    "            else:\n",
    "                current_element = left_value\n",
    "        elif pd.notna(left_value) and isinstance(left_value, (int, float)): # CHecking if the left column has a binding energy\n",
    "            if current_element and pd.notna(right_value):  # Ensure intensity is not empty\n",
    "                binding_energy = left_value\n",
    "                intensity = right_value\n",
    "                element.append({'Molecule': current_element, 'Binding Energy (eV)': binding_energy, 'Intensity': intensity})\n",
    "    \n",
    "    formatted_df = pd.DataFrame(element)\n",
    "    return formatted_df"
   ]
  },
  {
   "cell_type": "code",
   "execution_count": 3,
   "id": "ca175a32-e198-448f-b26f-0d8db932249d",
   "metadata": {},
   "outputs": [
    {
     "name": "stderr",
     "output_type": "stream",
     "text": [
      "/tmp/ipykernel_16028/2529481458.py:9: FutureWarning: Series.__getitem__ treating keys as positions is deprecated. In a future version, integer keys will always be treated as labels (consistent with DataFrame behavior). To access a value by position, use `ser.iloc[pos]`\n",
      "  left_value = row[0]\n",
      "/tmp/ipykernel_16028/2529481458.py:10: FutureWarning: Series.__getitem__ treating keys as positions is deprecated. In a future version, integer keys will always be treated as labels (consistent with DataFrame behavior). To access a value by position, use `ser.iloc[pos]`\n",
      "  right_value = row[1] if len(row) > 1 else None  # If the row is an element title, setting intensity to none\n"
     ]
    }
   ],
   "source": [
    "test = format_data('/mnt/d/Job/high resolution scan Mo, C, S, O.xlsx','high resolution scan Mo, C, S, ')"
   ]
  },
  {
   "cell_type": "code",
   "execution_count": 4,
   "id": "d1b90bac-809b-4f81-a778-4445db00e66c",
   "metadata": {},
   "outputs": [
    {
     "name": "stdout",
     "output_type": "stream",
     "text": [
      "     Molecule  Binding Energy (eV)  Intensity\n",
      "0         C1s              300.000  2830.0000\n",
      "1         C1s              299.975  2746.6665\n",
      "2         C1s              299.950  2700.0000\n",
      "3         C1s              299.925  2693.3333\n",
      "4         C1s              299.900  2670.0000\n",
      "...       ...                  ...        ...\n",
      "3595      O1s              520.125  1959.9999\n",
      "3596      O1s              520.100  1989.9999\n",
      "3597      O1s              520.075  2013.3333\n",
      "3598      O1s              520.050  1819.9999\n",
      "3599      O1s              520.025  2060.0000\n",
      "\n",
      "[3600 rows x 3 columns]\n"
     ]
    }
   ],
   "source": [
    "print(test)"
   ]
  },
  {
   "cell_type": "code",
   "execution_count": null,
   "id": "119c0085-4798-4171-9d7b-d94961470b46",
   "metadata": {},
   "outputs": [],
   "source": []
  }
 ],
 "metadata": {
  "kernelspec": {
   "display_name": "Python 3 (ipykernel)",
   "language": "python",
   "name": "python3"
  },
  "language_info": {
   "codemirror_mode": {
    "name": "ipython",
    "version": 3
   },
   "file_extension": ".py",
   "mimetype": "text/x-python",
   "name": "python",
   "nbconvert_exporter": "python",
   "pygments_lexer": "ipython3",
   "version": "3.12.7"
  }
 },
 "nbformat": 4,
 "nbformat_minor": 5
}
