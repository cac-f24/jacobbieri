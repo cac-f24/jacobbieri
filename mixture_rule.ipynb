{
 "cells": [
  {
   "cell_type": "code",
   "execution_count": 41,
   "id": "831a0fd4-973d-4d4c-b743-61010804bca4",
   "metadata": {},
   "outputs": [
    {
     "name": "stdout",
     "output_type": "stream",
     "text": [
      "71.0\n",
      "59.694\n",
      "55.029\n",
      "50.881\n",
      "43.938\n",
      "37.969\n",
      "16.9\n"
     ]
    }
   ],
   "source": [
    "# MSE 311 HWK 2 Q2\n",
    "# Mixture rule for conductivity calculations\n",
    "\n",
    "sig_ni = (1/16.9)\n",
    "sig_ag = (1/71)\n",
    "weight_frac_ni = [0,0.1,0.15,0.2,0.3,0.4,1]\n",
    "weight_frac_ag = [1,0.90,0.85,0.8,0.7,0.6,0]\n",
    "densities = [10.49,10.25,10.15,10.05,9.8,9.7,8.91]\n",
    "vol_frac_ag = []\n",
    "vol_frac_ni = []\n",
    "\n",
    "\n",
    "# (.1*10.25/8.907)\n",
    "def calc_vol_frac():\n",
    "    for i in range(len(densities)):\n",
    "        vol_frac_ni.append((weight_frac_ni[i]*densities[i])/8.91)\n",
    "        vol_frac_ag.append(1 - vol_frac_ni[i])\n",
    "\n",
    "\n",
    "calc_vol_frac()\n",
    "def calc():\n",
    "    calc_vol_frac()\n",
    "    for i in range(len(densities)):\n",
    "        x = vol_frac_ni[i] * ((sig_ni-sig_ag)/(sig_ni + 2*sig_ag))\n",
    "        sig_eff = ((2 * x * sig_ag + sig_ag) / (1 - x))\n",
    "        rho_eff = 1 / sig_eff\n",
    "        rho_eff = f\"{rho_eff:.5}\"\n",
    "        print(rho_eff)\n",
    "\n",
    "\n",
    "calc()"
   ]
  },
  {
   "cell_type": "code",
   "execution_count": null,
   "id": "e41de875-0cb1-439e-bb09-29378a8365da",
   "metadata": {},
   "outputs": [],
   "source": []
  }
 ],
 "metadata": {
  "kernelspec": {
   "display_name": "Python 3 (ipykernel)",
   "language": "python",
   "name": "python3"
  },
  "language_info": {
   "codemirror_mode": {
    "name": "ipython",
    "version": 3
   },
   "file_extension": ".py",
   "mimetype": "text/x-python",
   "name": "python",
   "nbconvert_exporter": "python",
   "pygments_lexer": "ipython3",
   "version": "3.11.0"
  }
 },
 "nbformat": 4,
 "nbformat_minor": 5
}
