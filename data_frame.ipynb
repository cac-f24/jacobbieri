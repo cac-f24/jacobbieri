{
 "cells": [
  {
   "cell_type": "code",
   "execution_count": 8,
   "id": "8f557880-ceec-411d-8810-dcd82aa93990",
   "metadata": {},
   "outputs": [],
   "source": [
    "import pandas as pd"
   ]
  },
  {
   "cell_type": "code",
   "execution_count": 15,
   "id": "17f327b4-5256-4126-8c84-191284e1c088",
   "metadata": {},
   "outputs": [],
   "source": [
    "def format_data(file_path, sheet_name):\n",
    "    df = pd.read_excel(file_path, sheet_name=sheet_name)\n",
    "    elements = {} # Creating dicionary so that it's easier to separate elements\n",
    "    current_element = None\n",
    "    \n",
    "    for index, row in df.iterrows():\n",
    "        if row.isnull().all():\n",
    "            continue\n",
    "        left_value = row[0]\n",
    "        right_value = row[1] if len(row) > 1 else None  # If the row is an element title, setting intensity to none\n",
    "        if isinstance(left_value, str):\n",
    "            if left_value == 'Full':\n",
    "                continue\n",
    "            else:\n",
    "                current_element = left_value\n",
    "                if current_element not in elements:\n",
    "                    elements[current_element] = []\n",
    "        elif pd.notna(left_value) and isinstance(left_value, (int, float)): # CHecking if the left column has a binding energy\n",
    "            if current_element and pd.notna(right_value):  # Ensure intensity is not empty\n",
    "                binding_energy = left_value\n",
    "                intensity = right_value\n",
    "                elements[current_element].append({'Binding Energy (eV)': binding_energy, 'Intensity': intensity})\n",
    "    \n",
    "    formatted_dfs = {element: pd.DataFrame(data) for element, data in elements.items()}\n",
    "    return formatted_dfs"
   ]
  },
  {
   "cell_type": "code",
   "execution_count": 16,
   "id": "ca175a32-e198-448f-b26f-0d8db932249d",
   "metadata": {},
   "outputs": [
    {
     "name": "stderr",
     "output_type": "stream",
     "text": [
      "/tmp/ipykernel_7296/2693567880.py:9: FutureWarning: Series.__getitem__ treating keys as positions is deprecated. In a future version, integer keys will always be treated as labels (consistent with DataFrame behavior). To access a value by position, use `ser.iloc[pos]`\n",
      "  left_value = row[0]\n",
      "/tmp/ipykernel_7296/2693567880.py:10: FutureWarning: Series.__getitem__ treating keys as positions is deprecated. In a future version, integer keys will always be treated as labels (consistent with DataFrame behavior). To access a value by position, use `ser.iloc[pos]`\n",
      "  right_value = row[1] if len(row) > 1 else None  # If the row is an element title, setting intensity to none\n"
     ]
    },
    {
     "ename": "NameError",
     "evalue": "name 'element_data' is not defined",
     "output_type": "error",
     "traceback": [
      "\u001b[0;31m---------------------------------------------------------------------------\u001b[0m",
      "\u001b[0;31mNameError\u001b[0m                                 Traceback (most recent call last)",
      "Cell \u001b[0;32mIn[16], line 1\u001b[0m\n\u001b[0;32m----> 1\u001b[0m test \u001b[38;5;241m=\u001b[39m format_data(\u001b[38;5;124m'\u001b[39m\u001b[38;5;124m/mnt/d/Job/high resolution scan Mo, C, S, O.xlsx\u001b[39m\u001b[38;5;124m'\u001b[39m,\u001b[38;5;124m'\u001b[39m\u001b[38;5;124mhigh resolution scan Mo, C, S, \u001b[39m\u001b[38;5;124m'\u001b[39m)\n",
      "Cell \u001b[0;32mIn[15], line 17\u001b[0m, in \u001b[0;36mformat_data\u001b[0;34m(file_path, sheet_name)\u001b[0m\n\u001b[1;32m     15\u001b[0m         current_element \u001b[38;5;241m=\u001b[39m left_value\n\u001b[1;32m     16\u001b[0m         \u001b[38;5;28;01mif\u001b[39;00m current_element \u001b[38;5;129;01mnot\u001b[39;00m \u001b[38;5;129;01min\u001b[39;00m elements:\n\u001b[0;32m---> 17\u001b[0m             element_data[current_element] \u001b[38;5;241m=\u001b[39m []\n\u001b[1;32m     18\u001b[0m \u001b[38;5;28;01melif\u001b[39;00m pd\u001b[38;5;241m.\u001b[39mnotna(left_value) \u001b[38;5;129;01mand\u001b[39;00m \u001b[38;5;28misinstance\u001b[39m(left_value, (\u001b[38;5;28mint\u001b[39m, \u001b[38;5;28mfloat\u001b[39m)): \u001b[38;5;66;03m# CHecking if the left column has a binding energy\u001b[39;00m\n\u001b[1;32m     19\u001b[0m     \u001b[38;5;28;01mif\u001b[39;00m current_element \u001b[38;5;129;01mand\u001b[39;00m pd\u001b[38;5;241m.\u001b[39mnotna(right_value):  \u001b[38;5;66;03m# Ensure intensity is not empty\u001b[39;00m\n",
      "\u001b[0;31mNameError\u001b[0m: name 'element_data' is not defined"
     ]
    }
   ],
   "source": [
    "test = format_data('/mnt/d/Job/high resolution scan Mo, C, S, O.xlsx','high resolution scan Mo, C, S, ')"
   ]
  },
  {
   "cell_type": "code",
   "execution_count": 7,
   "id": "d1b90bac-809b-4f81-a778-4445db00e66c",
   "metadata": {},
   "outputs": [
    {
     "name": "stdout",
     "output_type": "stream",
     "text": [
      "     Element  Binding Energy (eV)  Intensity\n",
      "0        C1s              300.000  2830.0000\n",
      "1        C1s              299.975  2746.6665\n",
      "2        C1s              299.950  2700.0000\n",
      "3        C1s              299.925  2693.3333\n",
      "4        C1s              299.900  2670.0000\n",
      "...      ...                  ...        ...\n",
      "3595     O1s              520.125  1959.9999\n",
      "3596     O1s              520.100  1989.9999\n",
      "3597     O1s              520.075  2013.3333\n",
      "3598     O1s              520.050  1819.9999\n",
      "3599     O1s              520.025  2060.0000\n",
      "\n",
      "[3600 rows x 3 columns]\n"
     ]
    }
   ],
   "source": [
    "print(test)"
   ]
  },
  {
   "cell_type": "code",
   "execution_count": null,
   "id": "119c0085-4798-4171-9d7b-d94961470b46",
   "metadata": {},
   "outputs": [],
   "source": []
  }
 ],
 "metadata": {
  "kernelspec": {
   "display_name": "Python 3 (ipykernel)",
   "language": "python",
   "name": "python3"
  },
  "language_info": {
   "codemirror_mode": {
    "name": "ipython",
    "version": 3
   },
   "file_extension": ".py",
   "mimetype": "text/x-python",
   "name": "python",
   "nbconvert_exporter": "python",
   "pygments_lexer": "ipython3",
   "version": "3.12.7"
  }
 },
 "nbformat": 4,
 "nbformat_minor": 5
}
