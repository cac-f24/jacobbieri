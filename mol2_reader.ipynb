{
 "cells": [
  {
   "cell_type": "code",
   "execution_count": 1,
   "id": "78a6eada-8746-400a-82ee-79c7ddd15519",
   "metadata": {},
   "outputs": [],
   "source": [
    "def mol2_reader(filename, column):\n",
    "    with open(filename) as file:\n",
    "        atom_section = False\n",
    "        column_data = []\n",
    "        column_names = {\n",
    "        \"atom_id\" : 0,\n",
    "        \"atom_name\" : 1,\n",
    "        \"x\" : 2,\n",
    "        \"y\" : 3,\n",
    "        \"z\" : 4,\n",
    "        \"atom_type\" : 5,\n",
    "        }\n",
    "        for line in file:\n",
    "            if line.startswith(\"@<TRIPOS>ATOM\"):\n",
    "                atom_section = True\n",
    "                continue\n",
    "            if line.startswith(\"@<TRIPOS>BOND\"):\n",
    "                atom_section = False\n",
    "                break\n",
    "            if atom_section:\n",
    "                line = line.split()\n",
    "                if column in [\"x\", \"y\", \"z\"]:\n",
    "                    column_data.append(float(line[column_names[column]]))\n",
    "                    continue\n",
    "                else:\n",
    "                    column_data.append(line[column_names[column]])\n",
    "    return column_data"
   ]
  },
  {
   "cell_type": "code",
   "execution_count": 2,
   "id": "4d0f1a17-7963-46e1-b807-db1a33751c44",
   "metadata": {},
   "outputs": [
    {
     "name": "stdout",
     "output_type": "stream",
     "text": [
      "-10.7689 13.8654\n",
      "2.4086 16.0993\n",
      "2.4038 12.0507\n"
     ]
    }
   ],
   "source": [
    "xs = mol2_reader(\"/home/jbieri/CME_lab/repos/pl-validation/mol2/PCPDTFBT_C1_BO.mol2\", \"x\")\n",
    "ys = mol2_reader(\"/home/jbieri/CME_lab/repos/pl-validation/mol2/PCPDTFBT_C1_BO.mol2\", \"y\")\n",
    "zs = mol2_reader(\"/home/jbieri/CME_lab/repos/pl-validation/mol2/PCPDTFBT_C1_BO.mol2\", \"z\")\n",
    "print(min(xs),max(xs))\n",
    "print(min(ys),max(ys))\n",
    "print(min(zs),max(zs))"
   ]
  },
  {
   "cell_type": "code",
   "execution_count": 3,
   "id": "911b94be-23d7-402b-957e-3c5c10dbb066",
   "metadata": {},
   "outputs": [
    {
     "name": "stdout",
     "output_type": "stream",
     "text": [
      "-353.3456 68.1216\n",
      "-178.682 16.0993\n",
      "0.6756 1221.5274\n"
     ]
    }
   ],
   "source": [
    "xs_250 = mol2_reader(\"/home/jbieri/CME_lab/repos/pl-validation/mol2/polymers/PCPDTFBT_C1_BO_250mer.mol2\", \"x\")\n",
    "ys_250 = mol2_reader(\"/home/jbieri/CME_lab/repos/pl-validation/mol2/polymers/PCPDTFBT_C1_BO_250mer.mol2\", \"y\")\n",
    "zs_250 = mol2_reader(\"/home/jbieri/CME_lab/repos/pl-validation/mol2/polymers/PCPDTFBT_C1_BO_250mer.mol2\", \"z\")\n",
    "print(min(xs_250),max(xs_250))\n",
    "print(min(ys_250),max(ys_250))\n",
    "print(min(zs_250),max(zs_250))"
   ]
  },
  {
   "cell_type": "code",
   "execution_count": 4,
   "id": "d79d1f75-aafb-4087-97a2-a97396ad336a",
   "metadata": {},
   "outputs": [
    {
     "name": "stdout",
     "output_type": "stream",
     "text": [
      "49002\n"
     ]
    }
   ],
   "source": [
    "print(len(xs_250))"
   ]
  },
  {
   "cell_type": "code",
   "execution_count": 5,
   "id": "d1f0f870-3c65-443c-bae5-18e5f946edf7",
   "metadata": {},
   "outputs": [
    {
     "name": "stdout",
     "output_type": "stream",
     "text": [
      "1220.6444\n",
      "<class 'float'>\n"
     ]
    }
   ],
   "source": [
    "print(zs_250[49001])\n",
    "print(type(zs_250[0]))"
   ]
  },
  {
   "cell_type": "code",
   "execution_count": 6,
   "id": "657b593d-f516-42c0-89cf-be2d53795ff3",
   "metadata": {},
   "outputs": [
    {
     "name": "stdout",
     "output_type": "stream",
     "text": [
      "['C0', 'C1', 'C1', 'S2', 'C1', 'C1', 'C1', 'C1', 'C1', 'C1', 'S2', 'H3', 'H3', 'C0', 'C1', 'C1', 'S2', 'C1', 'C1', 'C1', 'C1', 'C1', 'C1', 'S2', 'H3', 'H3', 'C1', 'F4', 'C1', 'C1', 'C1', 'N5', 'S2', 'N5', 'C1', 'C1', 'H3', 'C1', 'F4', 'C1', 'C1', 'C1', 'N5', 'S2', 'N5', 'C1', 'C1', 'H3', 'C0', 'C0', 'C0', 'C0', 'C0', 'C0', 'C0', 'C0', 'C0', 'C0', 'C0', 'C0', 'H6', 'H6', 'H6', 'H6', 'H6', 'H6', 'H6', 'H6', 'H6', 'H6', 'H6', 'H6', 'H6', 'H6', 'H6', 'H6', 'H6', 'H6', 'H6', 'H6', 'H6', 'H6', 'H6', 'H6', 'H6', 'C0', 'C0', 'C0', 'C0', 'C0', 'C0', 'C0', 'C0', 'C0', 'C0', 'C0', 'C0', 'H6', 'H6', 'H6', 'H6', 'H6', 'H6', 'H6', 'H6', 'H6', 'H6', 'H6', 'H6', 'H6', 'H6', 'H6', 'H6', 'H6', 'H6', 'H6', 'H6', 'H6', 'H6', 'H6', 'H6', 'H6', 'C0', 'C0', 'C0', 'C0', 'C0', 'C0', 'C0', 'C0', 'C0', 'C0', 'C0', 'C0', 'H6', 'H6', 'H6', 'H6', 'H6', 'H6', 'H6', 'H6', 'H6', 'H6', 'H6', 'H6', 'H6', 'H6', 'H6', 'H6', 'H6', 'H6', 'H6', 'H6', 'H6', 'H6', 'H6', 'H6', 'H6', 'C0', 'C0', 'C0', 'C0', 'C0', 'C0', 'C0', 'C0', 'C0', 'C0', 'C0', 'C0', 'H6', 'H6', 'H6', 'H6', 'H6', 'H6', 'H6', 'H6', 'H6', 'H6', 'H6', 'H6', 'H6', 'H6', 'H6', 'H6', 'H6', 'H6', 'H6', 'H6', 'H6', 'H6', 'H6', 'H6', 'H6', 'H7', 'H3']\n"
     ]
    }
   ],
   "source": [
    "atom_types = mol2_reader(\"/home/jbieri/CME_lab/repos/pl-validation/mol2/PCPDTFBT_C1_BO.mol2\", \"atom_type\")\n",
    "print(atom_types)"
   ]
  },
  {
   "cell_type": "code",
   "execution_count": 7,
   "id": "c903ab77-2845-461e-981e-c0a8d07ae2ec",
   "metadata": {},
   "outputs": [],
   "source": [
    "types = []\n",
    "for i in range(len(atom_types)):\n",
    "    if i not in types:\n",
    "        types.append(i)\n",
    "    else:\n",
    "        continue"
   ]
  },
  {
   "cell_type": "code",
   "execution_count": 8,
   "id": "4f4bc5aa-84e4-4241-9723-a5d5e84f49f9",
   "metadata": {},
   "outputs": [
    {
     "name": "stdout",
     "output_type": "stream",
     "text": [
      "[0, 1, 2, 3, 4, 5, 6, 7, 8, 9, 10, 11, 12, 13, 14, 15, 16, 17, 18, 19, 20, 21, 22, 23, 24, 25, 26, 27, 28, 29, 30, 31, 32, 33, 34, 35, 36, 37, 38, 39, 40, 41, 42, 43, 44, 45, 46, 47, 48, 49, 50, 51, 52, 53, 54, 55, 56, 57, 58, 59, 60, 61, 62, 63, 64, 65, 66, 67, 68, 69, 70, 71, 72, 73, 74, 75, 76, 77, 78, 79, 80, 81, 82, 83, 84, 85, 86, 87, 88, 89, 90, 91, 92, 93, 94, 95, 96, 97, 98, 99, 100, 101, 102, 103, 104, 105, 106, 107, 108, 109, 110, 111, 112, 113, 114, 115, 116, 117, 118, 119, 120, 121, 122, 123, 124, 125, 126, 127, 128, 129, 130, 131, 132, 133, 134, 135, 136, 137, 138, 139, 140, 141, 142, 143, 144, 145, 146, 147, 148, 149, 150, 151, 152, 153, 154, 155, 156, 157, 158, 159, 160, 161, 162, 163, 164, 165, 166, 167, 168, 169, 170, 171, 172, 173, 174, 175, 176, 177, 178, 179, 180, 181, 182, 183, 184, 185, 186, 187, 188, 189, 190, 191, 192, 193, 194, 195, 196, 197]\n"
     ]
    }
   ],
   "source": [
    "print(types)"
   ]
  }
 ],
 "metadata": {
  "kernelspec": {
   "display_name": "Python 3 (ipykernel)",
   "language": "python",
   "name": "python3"
  },
  "language_info": {
   "codemirror_mode": {
    "name": "ipython",
    "version": 3
   },
   "file_extension": ".py",
   "mimetype": "text/x-python",
   "name": "python",
   "nbconvert_exporter": "python",
   "pygments_lexer": "ipython3",
   "version": "3.11.0"
  }
 },
 "nbformat": 4,
 "nbformat_minor": 5
}
